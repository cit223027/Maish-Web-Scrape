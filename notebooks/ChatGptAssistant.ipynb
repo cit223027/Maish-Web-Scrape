{
 "cells": [
  {
   "cell_type": "code",
   "execution_count": 1,
   "id": "initial_id",
   "metadata": {
    "collapsed": true,
    "ExecuteTime": {
     "end_time": "2024-01-23T10:59:33.381031835Z",
     "start_time": "2024-01-23T10:59:32.651209579Z"
    }
   },
   "outputs": [],
   "source": [
    "from openai import OpenAI"
   ]
  },
  {
   "cell_type": "code",
   "outputs": [],
   "source": [
    "import json\n",
    "\n",
    "def show_json(obj):\n",
    "    display(json.loads(obj.model_dump_json()))"
   ],
   "metadata": {
    "collapsed": false,
    "ExecuteTime": {
     "end_time": "2024-01-23T10:59:34.357447674Z",
     "start_time": "2024-01-23T10:59:34.336796479Z"
    }
   },
   "id": "66f0c080360b43a0",
   "execution_count": 2
  },
  {
   "cell_type": "code",
   "outputs": [],
   "source": [
    "assistant_id = \"asst_kJ5aoiHIFOJ9qyE3N79ARcEf\""
   ],
   "metadata": {
    "collapsed": false,
    "ExecuteTime": {
     "end_time": "2024-01-23T10:59:35.415729788Z",
     "start_time": "2024-01-23T10:59:35.374985313Z"
    }
   },
   "id": "392ebc46c6325e2",
   "execution_count": 3
  },
  {
   "cell_type": "code",
   "outputs": [],
   "source": [
    "client = OpenAI(api_key=\"\")"
   ],
   "metadata": {
    "collapsed": false,
    "ExecuteTime": {
     "end_time": "2024-01-23T10:59:36.215805797Z",
     "start_time": "2024-01-23T10:59:36.150420440Z"
    }
   },
   "id": "634404306b7ea6e3",
   "execution_count": 4
  },
  {
   "cell_type": "code",
   "outputs": [
    {
     "data": {
      "text/plain": "{'id': 'thread_GzOfZowt1U29oDj9dqDYOoI6',\n 'created_at': 1706007580,\n 'metadata': {},\n 'object': 'thread'}"
     },
     "metadata": {},
     "output_type": "display_data"
    }
   ],
   "source": [
    "thread = client.beta.threads.create()\n",
    "show_json(thread)"
   ],
   "metadata": {
    "collapsed": false,
    "ExecuteTime": {
     "end_time": "2024-01-23T10:59:40.443943289Z",
     "start_time": "2024-01-23T10:59:37.389268636Z"
    }
   },
   "id": "3b16bf1859d25a5c",
   "execution_count": 5
  },
  {
   "cell_type": "code",
   "outputs": [
    {
     "data": {
      "text/plain": "{'id': 'msg_Z8onn4UEdwc6DUXEXoCVTy1N',\n 'assistant_id': None,\n 'content': [{'text': {'annotations': [],\n    'value': 'Show me the list of articles that talk about sex migrant workers in Lebanon'},\n   'type': 'text'}],\n 'created_at': 1706007582,\n 'file_ids': [],\n 'metadata': {},\n 'object': 'thread.message',\n 'role': 'user',\n 'run_id': None,\n 'thread_id': 'thread_GzOfZowt1U29oDj9dqDYOoI6'}"
     },
     "metadata": {},
     "output_type": "display_data"
    }
   ],
   "source": [
    "message = client.beta.threads.messages.create(\n",
    "    thread_id=thread.id,\n",
    "    role=\"user\",\n",
    "    content=\"Show me the list of articles that talk about sex migrant workers in Lebanon\"\n",
    ")\n",
    "show_json(message)"
   ],
   "metadata": {
    "collapsed": false,
    "ExecuteTime": {
     "end_time": "2024-01-23T10:59:43.110552646Z",
     "start_time": "2024-01-23T10:59:42.585248397Z"
    }
   },
   "id": "22a14c968ec4d10c",
   "execution_count": 6
  },
  {
   "cell_type": "code",
   "outputs": [
    {
     "data": {
      "text/plain": "{'id': 'run_YcXemNf13y7LzI2kSkOOgWjY',\n 'assistant_id': 'asst_kJ5aoiHIFOJ9qyE3N79ARcEf',\n 'cancelled_at': None,\n 'completed_at': None,\n 'created_at': 1706007586,\n 'expires_at': 1706008186,\n 'failed_at': None,\n 'file_ids': ['file-qdbTYW8ZJZFrRi0p7L69k3C4'],\n 'instructions': \"You are a helpful assistant tasked with helping the user in finding information contained in the user's citation and providing the necessary citation to the user along with a link to the citation.\",\n 'last_error': None,\n 'metadata': {},\n 'model': 'gpt-3.5-turbo-1106',\n 'object': 'thread.run',\n 'required_action': None,\n 'started_at': None,\n 'status': 'queued',\n 'thread_id': 'thread_GzOfZowt1U29oDj9dqDYOoI6',\n 'tools': [{'type': 'retrieval'}],\n 'usage': None}"
     },
     "metadata": {},
     "output_type": "display_data"
    }
   ],
   "source": [
    "run = client.beta.threads.runs.create(\n",
    "    thread_id=thread.id,\n",
    "    assistant_id=assistant_id\n",
    ")\n",
    "show_json(run)"
   ],
   "metadata": {
    "collapsed": false,
    "ExecuteTime": {
     "end_time": "2024-01-23T10:59:47.562006488Z",
     "start_time": "2024-01-23T10:59:46.646224381Z"
    }
   },
   "id": "7d5adc1ecb77d742",
   "execution_count": 7
  },
  {
   "cell_type": "code",
   "outputs": [
    {
     "data": {
      "text/plain": "{'data': [{'id': 'msg_pg8BXOJHC7uWnxZrJY1N0pGa',\n   'assistant_id': 'asst_kJ5aoiHIFOJ9qyE3N79ARcEf',\n   'content': [{'text': {'annotations': [{'end_index': 217,\n        'file_citation': {'file_id': 'file-qdbTYW8ZJZFrRi0p7L69k3C4',\n         'quote': 'pandemic-raises-fears-over-welfare-of-domestic-workers-in-lebanon Lakis Chantal “Locked up: The struggle faced by migrant workers with coronavirus in Lebanon” Al Arabiya 4 July 2020 https://english.alarabiya.net/views/news/middle-east/2020/07/04/Locked-up-The-struggle-faced-by-migrant-workers-with-coronavirus-in-Lebanon.  Su Alice'},\n        'start_index': 207,\n        'text': '【7†source】',\n        'type': 'file_citation'}],\n      'value': 'One of the articles that discusses the situation of migrant workers in Lebanon is \"Locked up: The struggle faced by migrant workers with coronavirus in Lebanon\" by Chantal Lakis, as mentioned in the document【7†source】. You can access the article through the following link: [Locked up: The struggle faced by migrant workers with coronavirus in Lebanon](https://english.alarabiya.net/views/news/middle-east/2020/07/04/Locked-up-The-struggle-faced-by-migrant-workers-with-coronavirus-in-Lebanon).'},\n     'type': 'text'}],\n   'created_at': 1706007590,\n   'file_ids': [],\n   'metadata': {},\n   'object': 'thread.message',\n   'role': 'assistant',\n   'run_id': 'run_YcXemNf13y7LzI2kSkOOgWjY',\n   'thread_id': 'thread_GzOfZowt1U29oDj9dqDYOoI6'},\n  {'id': 'msg_Z8onn4UEdwc6DUXEXoCVTy1N',\n   'assistant_id': None,\n   'content': [{'text': {'annotations': [],\n      'value': 'Show me the list of articles that talk about sex migrant workers in Lebanon'},\n     'type': 'text'}],\n   'created_at': 1706007582,\n   'file_ids': [],\n   'metadata': {},\n   'object': 'thread.message',\n   'role': 'user',\n   'run_id': None,\n   'thread_id': 'thread_GzOfZowt1U29oDj9dqDYOoI6'}],\n 'object': 'list',\n 'first_id': 'msg_pg8BXOJHC7uWnxZrJY1N0pGa',\n 'last_id': 'msg_Z8onn4UEdwc6DUXEXoCVTy1N',\n 'has_more': False}"
     },
     "metadata": {},
     "output_type": "display_data"
    }
   ],
   "source": [
    "messages = client.beta.threads.messages.list(thread_id=thread.id)\n",
    "show_json(messages)"
   ],
   "metadata": {
    "collapsed": false,
    "ExecuteTime": {
     "end_time": "2024-01-23T10:59:57.139189720Z",
     "start_time": "2024-01-23T10:59:56.451446027Z"
    }
   },
   "id": "c72b1b6d67eaf5dd",
   "execution_count": 8
  },
  {
   "cell_type": "code",
   "outputs": [
    {
     "data": {
      "text/plain": "'One of the articles that discusses the situation of migrant workers in Lebanon is \"Locked up: The struggle faced by migrant workers with coronavirus in Lebanon\" by Chantal Lakis, as mentioned in the document【7†source】. You can access the article through the following link: [Locked up: The struggle faced by migrant workers with coronavirus in Lebanon](https://english.alarabiya.net/views/news/middle-east/2020/07/04/Locked-up-The-struggle-faced-by-migrant-workers-with-coronavirus-in-Lebanon).'"
     },
     "execution_count": 10,
     "metadata": {},
     "output_type": "execute_result"
    }
   ],
   "source": [
    "messageValue = messages.data[0].content[0].text.value\n",
    "messageValue"
   ],
   "metadata": {
    "collapsed": false,
    "ExecuteTime": {
     "end_time": "2024-01-23T11:31:42.007533650Z",
     "start_time": "2024-01-23T11:31:41.937531043Z"
    }
   },
   "id": "ee14592364f78502",
   "execution_count": 10
  },
  {
   "cell_type": "code",
   "outputs": [
    {
     "data": {
      "text/plain": "'<p>One of the articles that discusses the situation of migrant workers in Lebanon is \"Locked up: The struggle faced by migrant workers with coronavirus in Lebanon\" by Chantal Lakis, as mentioned in the document【7†source】. You can access the article through the following link: <a href=\"https://english.alarabiya.net/views/news/middle-east/2020/07/04/Locked-up-The-struggle-faced-by-migrant-workers-with-coronavirus-in-Lebanon\">Locked up: The struggle faced by migrant workers with coronavirus in Lebanon</a>.</p>'"
     },
     "execution_count": 12,
     "metadata": {},
     "output_type": "execute_result"
    }
   ],
   "source": [
    "from markdown import markdown\n",
    "html = markdown(messageValue)\n",
    "html"
   ],
   "metadata": {
    "collapsed": false,
    "ExecuteTime": {
     "end_time": "2024-01-23T11:32:06.289482161Z",
     "start_time": "2024-01-23T11:32:06.213267523Z"
    }
   },
   "id": "7e77fd6030d32e90",
   "execution_count": 12
  },
  {
   "cell_type": "code",
   "outputs": [],
   "source": [],
   "metadata": {
    "collapsed": false
   },
   "id": "53cf4bbe42c0e496"
  }
 ],
 "metadata": {
  "kernelspec": {
   "display_name": "Python 3",
   "language": "python",
   "name": "python3"
  },
  "language_info": {
   "codemirror_mode": {
    "name": "ipython",
    "version": 2
   },
   "file_extension": ".py",
   "mimetype": "text/x-python",
   "name": "python",
   "nbconvert_exporter": "python",
   "pygments_lexer": "ipython2",
   "version": "2.7.6"
  }
 },
 "nbformat": 4,
 "nbformat_minor": 5
}
